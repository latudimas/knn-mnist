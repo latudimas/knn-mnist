{
 "cells": [
  {
   "cell_type": "code",
   "execution_count": 117,
   "id": "3c051a55-f2c7-40a7-8d67-c222ee1298cb",
   "metadata": {},
   "outputs": [],
   "source": [
    "import numpy as np\n",
    "import matplotlib.pyplot as plt"
   ]
  },
  {
   "cell_type": "code",
   "execution_count": 118,
   "id": "19e3be93-a886-4c81-9ff4-7f15baeee92e",
   "metadata": {},
   "outputs": [],
   "source": [
    "def read_mnist_images(file_path):\n",
    "    with open(file_path, 'rb') as f:\n",
    "        magic_number = int.from_bytes(f.read(4), 'big')\n",
    "        num_images = int.from_bytes(f.read(4), 'big')\n",
    "        num_rows = int.from_bytes(f.read(4), 'big')\n",
    "        num_cols = int.from_bytes(f.read(4), 'big')\n",
    "\n",
    "        image_data = np.frombuffer(f.read(), dtype=np.uint8)\n",
    "\n",
    "    images = image_data.reshape(num_images, num_rows, num_cols)\n",
    "    images = images / 255.0\n",
    "\n",
    "    return images"
   ]
  },
  {
   "cell_type": "code",
   "execution_count": 119,
   "id": "1690dd14-dad5-402e-a25e-f6530d79d22d",
   "metadata": {},
   "outputs": [],
   "source": [
    "def read_mnist_labels(file_path):\n",
    "    with open(file_path, 'rb') as f:\n",
    "        magic_number = int.from_bytes(f.read(4), 'big')\n",
    "        num_labels = int.from_bytes(f.read(4), 'big')\n",
    "\n",
    "        label_data = np.frombuffer(f.read(), dtype=np.uint8)\n",
    "\n",
    "    return label_data"
   ]
  },
  {
   "cell_type": "code",
   "execution_count": 120,
   "id": "e5c080c0-1296-4e2c-a444-7f652d6bd6b3",
   "metadata": {},
   "outputs": [
    {
     "name": "stdout",
     "output_type": "stream",
     "text": [
      "Training images shape: (60000, 28, 28)\n",
      "Training labels shape: (60000,)\n",
      "Test images shape: (10000, 28, 28)\n",
      "Test labels shape: (10000,)\n"
     ]
    }
   ],
   "source": [
    "\n",
    "train_images = read_mnist_images('data/train-images-idx3-ubyte')\n",
    "train_labels = read_mnist_labels('data/train-labels-idx1-ubyte')\n",
    "\n",
    "test_images = read_mnist_images('data/t10k-images-idx3-ubyte')\n",
    "test_labels = read_mnist_labels('data/t10k-labels-idx1-ubyte')\n",
    "\n",
    "print(f\"Training images shape: {train_images.shape}\")\n",
    "print(f\"Training labels shape: {train_labels.shape}\")\n",
    "print(f\"Test images shape: {test_images.shape}\")\n",
    "print(f\"Test labels shape: {test_labels.shape}\")"
   ]
  },
  {
   "cell_type": "code",
   "execution_count": 121,
   "id": "6b23fb5e-3740-4b36-bc04-0f101da1c200",
   "metadata": {},
   "outputs": [],
   "source": [
    "def display_image(image, label):\n",
    "    plt.imshow(image, cmap='gray')\n",
    "    plt.title(f\"Label: {label}\")\n",
    "    plt.axis('off')\n",
    "    plt.show()"
   ]
  },
  {
   "cell_type": "code",
   "execution_count": 122,
   "id": "2646aa6b-20a3-4b9a-bcff-dc36b481c221",
   "metadata": {},
   "outputs": [
    {
     "name": "stdout",
     "output_type": "stream",
     "text": [
      "Random Index: 2878\n"
     ]
    },
    {
     "data": {
      "image/png": "[encoded data removed]",
      "text/plain": [
       "<Figure size 640x480 with 1 Axes>"
      ]
     },
     "metadata": {},
     "output_type": "display_data"
    }
   ],
   "source": [
    "random_index = np.random.randint(0, len(train_images))\n",
    "print(f\"Random Index: {random_index}\")\n",
    "display_image(train_images[random_index], train_labels[random_index])"
   ]
  },
  {
   "cell_type": "code",
   "execution_count": 123,
   "id": "c9040ad8-5331-468d-8c37-87dc77f36d60",
   "metadata": {},
   "outputs": [],
   "source": [
    "from knn import KNNClassifier"
   ]
  },
  {
   "cell_type": "code",
   "execution_count": 124,
   "id": "a3f40e09-e021-42c3-98ab-0bba7d816326",
   "metadata": {},
   "outputs": [
    {
     "name": "stdout",
     "output_type": "stream",
     "text": [
      "X_train shape: (60000, 28, 28)\n",
      "y_train shape: (60000,)\n"
     ]
    }
   ],
   "source": [
    "knn = KNNClassifier(n_neighbors=5)\n",
    "knn.fit(train_images, train_labels)\n",
    "print(f\"X_train shape: {knn.X_train.shape}\")\n",
    "print(f\"y_train shape: {knn.y_train.shape}\")"
   ]
  },
  {
   "cell_type": "code",
   "execution_count": 125,
   "id": "4d9cf6e1-6744-4316-9959-aea93f1c20af",
   "metadata": {},
   "outputs": [],
   "source": [
    "train_images_2d = train_images.reshape(train_images.shape[0], -1)\n",
    "test_images_2d = test_images.reshape(test_images.shape[0], -1)"
   ]
  },
  {
   "cell_type": "code",
   "execution_count": 126,
   "id": "b8ca7b8b-9f22-467b-b2fb-c5a9cf14f81f",
   "metadata": {},
   "outputs": [
    {
     "name": "stdout",
     "output_type": "stream",
     "text": [
      "Training KNN classifier...\n"
     ]
    },
    {
     "data": {
      "text/plain": [
       "<knn._base.KNNClassifier at 0x10d1ce750>"
      ]
     },
     "execution_count": 126,
     "metadata": {},
     "output_type": "execute_result"
    }
   ],
   "source": [
    "print(\"Training KNN classifier...\")\n",
    "knn = KNNClassifier(n_neighbors=3, metric='euclidean')\n",
    "knn.fit(train_images_2d, train_labels)"
   ]
  },
  {
   "cell_type": "code",
   "execution_count": null,
   "id": "fb86ca61-e443-4bc7-aff3-69b0cc37f36c",
   "metadata": {},
   "outputs": [],
   "source": []
  },
  {
   "cell_type": "code",
   "execution_count": 127,
   "id": "f7cecd71-df73-4e5f-b720-7aee779f2b44",
   "metadata": {},
   "outputs": [
    {
     "name": "stdout",
     "output_type": "stream",
     "text": [
      "Making predictions...\n"
     ]
    }
   ],
   "source": [
    "print(\"Making predictions...\")\n",
    "n_samples = 1000  # Adjust based on your computational resources\n",
    "test_subset = test_images_2d[:n_samples]\n",
    "labels_subset = test_labels[:n_samples]\n",
    "predictions = knn.predict(test_subset)\n"
   ]
  },
  {
   "cell_type": "code",
   "execution_count": 128,
   "id": "7a882b60-f167-4493-92be-ee267a915c27",
   "metadata": {},
   "outputs": [
    {
     "name": "stdout",
     "output_type": "stream",
     "text": [
      "Accuracy on 1000 test samples: 0.9650\n"
     ]
    }
   ],
   "source": [
    "accuracy = np.mean(predictions == labels_subset)\n",
    "print(f\"Accuracy on {n_samples} test samples: {accuracy:.4f}\")"
   ]
  },
  {
   "cell_type": "code",
   "execution_count": null,
   "id": "81aea163-da0e-4453-a13a-8029d1273725",
   "metadata": {},
   "outputs": [],
   "source": [
    "def load_mnist():\n",
    "    with gzip.open('train-images-idx3-ubyte.gz', 'rb') as f:\n",
    "        magic, num, rows, cols = struct.unpack(\">IIII\", f.read(16))\n",
    "        train_images = np.frombuffer(f.read(), dtype=np.uint8).reshape(num, 784)\n",
    "\n",
    "    with gzip.open('train-labels-idx1-ubyte.gz', 'rb') as f:\n",
    "        magic, num = struct.unpack(\">II\", f.read(8))\n",
    "        train_labels = np.frombuffer(f.read(), dtype=np.uint8)\n",
    "\n",
    "    with gzip.open('t10k-images-idx3-ubyte.gz', 'rb') as f:\n",
    "        magic, num, rows, cols = struct.unpack(\">IIII\", f.read(16))\n",
    "        test_images = np.frombuffer(f.read(), dtype=np.uint8).reshape(num, 784)\n",
    "\n",
    "    with gzip.open('t10k-labels-idx1-ubyte.gz', 'rb') as f:\n",
    "        magic, num = struct.unpack(\">II\", f.read(8))\n",
    "        test_labels = np.frombuffer(f.read(), dtype=np.uint8)\n",
    "\n",
    "    return train_images, train_labels, test_images, test_labels\n"
   ]
  },
  {
   "cell_type": "code",
   "execution_count": 130,
   "id": "01d401e3-17f8-4694-b690-9e50c3e9f424",
   "metadata": {},
   "outputs": [],
   "source": [
    "import numpy as np\n",
    "import struct\n",
    "from knn import KNNClassifier  # Assuming the previous code is saved in KNNClassifier.py\n",
    "import time\n",
    "from collections import Counter\n",
    "\n",
    "def load_mnist(path):\n",
    "    with open(path + 'train-images-idx3-ubyte', 'rb') as f:\n",
    "        magic, num, rows, cols = struct.unpack(\">IIII\", f.read(16))\n",
    "        train_images = np.frombuffer(f.read(), dtype=np.uint8).reshape(num, 784)\n",
    "\n",
    "    with open(path + 'train-labels-idx1-ubyte', 'rb') as f:\n",
    "        magic, num = struct.unpack(\">II\", f.read(8))\n",
    "        train_labels = np.frombuffer(f.read(), dtype=np.uint8)\n",
    "\n",
    "    with open(path + 't10k-images-idx3-ubyte', 'rb') as f:\n",
    "        magic, num, rows, cols = struct.unpack(\">IIII\", f.read(16))\n",
    "        test_images = np.frombuffer(f.read(), dtype=np.uint8).reshape(num, 784)\n",
    "\n",
    "    with open(path + 't10k-labels-idx1-ubyte', 'rb') as f:\n",
    "        magic, num = struct.unpack(\">II\", f.read(8))\n",
    "        test_labels = np.frombuffer(f.read(), dtype=np.uint8)\n",
    "\n",
    "    return train_images, train_labels, test_images, test_labels\n",
    "\n",
    "def train_test_split(X, y, train_size, random_state=None):\n",
    "    if random_state is not None:\n",
    "        np.random.seed(random_state)\n",
    "    \n",
    "    num_samples = len(X)\n",
    "    indices = np.random.permutation(num_samples)\n",
    "    train_samples = int(num_samples * train_size)\n",
    "    \n",
    "    train_indices = indices[:train_samples]\n",
    "    test_indices = indices[train_samples:]\n",
    "    \n",
    "    X_train, X_test = X[train_indices], X[test_indices]\n",
    "    y_train, y_test = y[train_indices], y[test_indices]\n",
    "    \n",
    "    return X_train, X_test, y_train, y_test\n",
    "\n",
    "def accuracy_score(y_true, y_pred):\n",
    "    return np.mean(y_true == y_pred)\n",
    "\n",
    "def classification_report(y_true, y_pred):\n",
    "    labels = np.unique(y_true)\n",
    "    report = \"\"\n",
    "    \n",
    "    for label in labels:\n",
    "        true_positive = np.sum((y_true == label) & (y_pred == label))\n",
    "        false_positive = np.sum((y_true != label) & (y_pred == label))\n",
    "        false_negative = np.sum((y_true == label) & (y_pred != label))\n",
    "        \n",
    "        precision = true_positive / (true_positive + false_positive) if (true_positive + false_positive) > 0 else 0\n",
    "        recall = true_positive / (true_positive + false_negative) if (true_positive + false_negative) > 0 else 0\n",
    "        f1 = 2 * (precision * recall) / (precision + recall) if (precision + recall) > 0 else 0\n",
    "        \n",
    "        report += f\"Class {label}:\\n\"\n",
    "        report += f\"  Precision: {precision:.4f}\\n\"\n",
    "        report += f\"  Recall: {recall:.4f}\\n\"\n",
    "        report += f\"  F1-score: {f1:.4f}\\n\\n\"\n",
    "    \n",
    "    return report"
   ]
  },
  {
   "cell_type": "code",
   "execution_count": 131,
   "id": "953b419c-85ba-429b-bc4b-5a723320d92c",
   "metadata": {},
   "outputs": [
    {
     "name": "stdout",
     "output_type": "stream",
     "text": [
      "Loading MNIST dataset...\n",
      "Preparing data subset...\n",
      "Training KNN classifier...\n",
      "Making predictions...\n",
      "Training time: 0.00 seconds\n",
      "Prediction time: 14.82 seconds\n",
      "Accuracy: 0.9120\n",
      "\n",
      "Classification Report:\n",
      "Class 0:\n",
      "  Precision: 0.9438\n",
      "  Recall: 0.9882\n",
      "  F1-score: 0.9655\n",
      "\n",
      "Class 1:\n",
      "  Precision: 0.9197\n",
      "  Recall: 1.0000\n",
      "  F1-score: 0.9582\n",
      "\n",
      "Class 2:\n",
      "  Precision: 0.9802\n",
      "  Recall: 0.8534\n",
      "  F1-score: 0.9124\n",
      "\n",
      "Class 3:\n",
      "  Precision: 0.9320\n",
      "  Recall: 0.8972\n",
      "  F1-score: 0.9143\n",
      "\n",
      "Class 4:\n",
      "  Precision: 0.9400\n",
      "  Recall: 0.8545\n",
      "  F1-score: 0.8952\n",
      "\n",
      "Class 5:\n",
      "  Precision: 0.8696\n",
      "  Recall: 0.9195\n",
      "  F1-score: 0.8939\n",
      "\n",
      "Class 6:\n",
      "  Precision: 0.9438\n",
      "  Recall: 0.9655\n",
      "  F1-score: 0.9545\n",
      "\n",
      "Class 7:\n",
      "  Precision: 0.8598\n",
      "  Recall: 0.9293\n",
      "  F1-score: 0.8932\n",
      "\n",
      "Class 8:\n",
      "  Precision: 0.8974\n",
      "  Recall: 0.7865\n",
      "  F1-score: 0.8383\n",
      "\n",
      "Class 9:\n",
      "  Precision: 0.8365\n",
      "  Recall: 0.9255\n",
      "  F1-score: 0.8788\n",
      "\n",
      "\n"
     ]
    }
   ],
   "source": [
    "# Load MNIST data\n",
    "print(\"Loading MNIST dataset...\")\n",
    "data_path = 'data/'\n",
    "X_train_full, y_train_full, X_test_full, y_test_full = load_mnist(data_path)\n",
    "\n",
    "# Normalize the data\n",
    "X_train_full = X_train_full.astype(np.float32) / 255.0\n",
    "X_test_full = X_test_full.astype(np.float32) / 255.0\n",
    "\n",
    "# Use a subset of the data for quicker testing\n",
    "print(\"Preparing data subset...\")\n",
    "X_train, X_val, y_train, y_val = train_test_split(X_train_full, y_train_full, train_size=5000/len(X_train_full), random_state=42)\n",
    "X_test, y_test = X_test_full[:1000], y_test_full[:1000]\n",
    "\n",
    "# Create and train the KNN classifier\n",
    "print(\"Training KNN classifier...\")\n",
    "knn = KNNClassifier(n_neighbors=3, metric=\"euclidean\")\n",
    "start_time = time.time()\n",
    "knn.fit(X_train, y_train)\n",
    "train_time = time.time() - start_time\n",
    "\n",
    "# Make predictions\n",
    "print(\"Making predictions...\")\n",
    "start_time = time.time()\n",
    "y_pred = knn.predict(X_test)\n",
    "predict_time = time.time() - start_time\n",
    "\n",
    "# Calculate accuracy\n",
    "accuracy = accuracy_score(y_test, y_pred)\n",
    "\n",
    "print(f\"Training time: {train_time:.2f} seconds\")\n",
    "print(f\"Prediction time: {predict_time:.2f} seconds\")\n",
    "print(f\"Accuracy: {accuracy:.4f}\")\n",
    "print(\"\\nClassification Report:\")\n",
    "print(classification_report(y_test, y_pred))"
   ]
  },
  {
   "cell_type": "code",
   "execution_count": 132,
   "id": "a500c35a-9209-4743-99bb-66b05e068961",
   "metadata": {},
   "outputs": [
    {
     "name": "stdout",
     "output_type": "stream",
     "text": [
      "Training KNN classifier...\n",
      "Making predictions...\n",
      "Training time: 0.00 seconds\n",
      "Prediction time: 13.06 seconds\n",
      "Accuracy: 0.8980\n",
      "\n",
      "Classification Report:\n",
      "Class 0:\n",
      "  Precision: 0.9545\n",
      "  Recall: 0.9882\n",
      "  F1-score: 0.9711\n",
      "\n",
      "Class 1:\n",
      "  Precision: 0.8690\n",
      "  Recall: 1.0000\n",
      "  F1-score: 0.9299\n",
      "\n",
      "Class 2:\n",
      "  Precision: 0.9479\n",
      "  Recall: 0.7845\n",
      "  F1-score: 0.8585\n",
      "\n",
      "Class 3:\n",
      "  Precision: 0.9223\n",
      "  Recall: 0.8879\n",
      "  F1-score: 0.9048\n",
      "\n",
      "Class 4:\n",
      "  Precision: 0.9286\n",
      "  Recall: 0.8273\n",
      "  F1-score: 0.8750\n",
      "\n",
      "Class 5:\n",
      "  Precision: 0.8681\n",
      "  Recall: 0.9080\n",
      "  F1-score: 0.8876\n",
      "\n",
      "Class 6:\n",
      "  Precision: 0.9333\n",
      "  Recall: 0.9655\n",
      "  F1-score: 0.9492\n",
      "\n",
      "Class 7:\n",
      "  Precision: 0.8304\n",
      "  Recall: 0.9394\n",
      "  F1-score: 0.8815\n",
      "\n",
      "Class 8:\n",
      "  Precision: 0.9444\n",
      "  Recall: 0.7640\n",
      "  F1-score: 0.8447\n",
      "\n",
      "Class 9:\n",
      "  Precision: 0.8286\n",
      "  Recall: 0.9255\n",
      "  F1-score: 0.8744\n",
      "\n",
      "\n"
     ]
    }
   ],
   "source": [
    "# Create and train the KNN classifier\n",
    "print(\"Training KNN classifier...\")\n",
    "knn = KNNClassifier(n_neighbors=3, metric=\"manhattan\")\n",
    "start_time = time.time()\n",
    "knn.fit(X_train, y_train)\n",
    "train_time = time.time() - start_time\n",
    "\n",
    "# Make predictions\n",
    "print(\"Making predictions...\")\n",
    "start_time = time.time()\n",
    "y_pred = knn.predict(X_test)\n",
    "predict_time = time.time() - start_time\n",
    "\n",
    "# Calculate accuracy\n",
    "accuracy = accuracy_score(y_test, y_pred)\n",
    "\n",
    "print(f\"Training time: {train_time:.2f} seconds\")\n",
    "print(f\"Prediction time: {predict_time:.2f} seconds\")\n",
    "print(f\"Accuracy: {accuracy:.4f}\")\n",
    "print(\"\\nClassification Report:\")\n",
    "print(classification_report(y_test, y_pred))"
   ]
  },
  {
   "cell_type": "code",
   "execution_count": 135,
   "id": "008af3f3-a031-467f-9ca1-0198686ee9bc",
   "metadata": {},
   "outputs": [
    {
     "name": "stdout",
     "output_type": "stream",
     "text": [
      "Training KNN classifier...\n",
      "Making predictions...\n",
      "Training time: 0.00 seconds\n",
      "Prediction time: 15.55 seconds\n",
      "Accuracy: 0.9120\n",
      "\n",
      "Classification Report:\n",
      "Class 0:\n",
      "  Precision: 0.9438\n",
      "  Recall: 0.9882\n",
      "  F1-score: 0.9655\n",
      "\n",
      "Class 1:\n",
      "  Precision: 0.9197\n",
      "  Recall: 1.0000\n",
      "  F1-score: 0.9582\n",
      "\n",
      "Class 2:\n",
      "  Precision: 0.9802\n",
      "  Recall: 0.8534\n",
      "  F1-score: 0.9124\n",
      "\n",
      "Class 3:\n",
      "  Precision: 0.9320\n",
      "  Recall: 0.8972\n",
      "  F1-score: 0.9143\n",
      "\n",
      "Class 4:\n",
      "  Precision: 0.9400\n",
      "  Recall: 0.8545\n",
      "  F1-score: 0.8952\n",
      "\n",
      "Class 5:\n",
      "  Precision: 0.8696\n",
      "  Recall: 0.9195\n",
      "  F1-score: 0.8939\n",
      "\n",
      "Class 6:\n",
      "  Precision: 0.9438\n",
      "  Recall: 0.9655\n",
      "  F1-score: 0.9545\n",
      "\n",
      "Class 7:\n",
      "  Precision: 0.8598\n",
      "  Recall: 0.9293\n",
      "  F1-score: 0.8932\n",
      "\n",
      "Class 8:\n",
      "  Precision: 0.8974\n",
      "  Recall: 0.7865\n",
      "  F1-score: 0.8383\n",
      "\n",
      "Class 9:\n",
      "  Precision: 0.8365\n",
      "  Recall: 0.9255\n",
      "  F1-score: 0.8788\n",
      "\n",
      "\n"
     ]
    }
   ],
   "source": [
    "\n",
    "#Create and train the KNN classifier\n",
    "print(\"Training KNN classifier...\")\n",
    "knn = KNNClassifier(n_neighbors=3, metric=\"minkowski\")\n",
    "start_time = time.time()\n",
    "knn.fit(X_train, y_train)\n",
    "train_time = time.time() - start_time\n",
    "\n",
    "# Make predictions\n",
    "print(\"Making predictions...\")\n",
    "start_time = time.time()\n",
    "y_pred = knn.predict(X_test)\n",
    "predict_time = time.time() - start_time\n",
    "\n",
    "# Calculate accuracy\n",
    "accuracy = accuracy_score(y_test, y_pred)\n",
    "\n",
    "print(f\"Training time: {train_time:.2f} seconds\")\n",
    "print(f\"Prediction time: {predict_time:.2f} seconds\")\n",
    "print(f\"Accuracy: {accuracy:.4f}\")\n",
    "print(\"\\nClassification Report:\")\n",
    "print(classification_report(y_test, y_pred))"
   ]
  },
  {
   "cell_type": "code",
   "execution_count": 136,
   "id": "a4166319-3515-461c-af27-6e2d8aed2596",
   "metadata": {},
   "outputs": [
    {
     "name": "stdout",
     "output_type": "stream",
     "text": [
      "Training KNN classifier...\n",
      "Making predictions...\n",
      "Training time: 0.00 seconds\n",
      "Prediction time: 12.46 seconds\n",
      "Accuracy: 0.6550\n",
      "\n",
      "Classification Report:\n",
      "Class 0:\n",
      "  Precision: 0.7196\n",
      "  Recall: 0.9059\n",
      "  F1-score: 0.8021\n",
      "\n",
      "Class 1:\n",
      "  Precision: 0.7654\n",
      "  Recall: 0.9841\n",
      "  F1-score: 0.8611\n",
      "\n",
      "Class 2:\n",
      "  Precision: 0.6933\n",
      "  Recall: 0.4483\n",
      "  F1-score: 0.5445\n",
      "\n",
      "Class 3:\n",
      "  Precision: 0.5714\n",
      "  Recall: 0.5981\n",
      "  F1-score: 0.5845\n",
      "\n",
      "Class 4:\n",
      "  Precision: 0.7500\n",
      "  Recall: 0.5455\n",
      "  F1-score: 0.6316\n",
      "\n",
      "Class 5:\n",
      "  Precision: 0.7111\n",
      "  Recall: 0.3678\n",
      "  F1-score: 0.4848\n",
      "\n",
      "Class 6:\n",
      "  Precision: 0.7342\n",
      "  Recall: 0.6667\n",
      "  F1-score: 0.6988\n",
      "\n",
      "Class 7:\n",
      "  Precision: 0.5583\n",
      "  Recall: 0.6768\n",
      "  F1-score: 0.6119\n",
      "\n",
      "Class 8:\n",
      "  Precision: 0.4615\n",
      "  Recall: 0.5393\n",
      "  F1-score: 0.4974\n",
      "\n",
      "Class 9:\n",
      "  Precision: 0.6293\n",
      "  Recall: 0.7766\n",
      "  F1-score: 0.6952\n",
      "\n",
      "\n"
     ]
    }
   ],
   "source": [
    "#Create and train the KNN classifier\n",
    "print(\"Training KNN classifier...\")\n",
    "knn = KNNClassifier(n_neighbors=3, metric=\"chebyshev\")\n",
    "start_time = time.time()\n",
    "knn.fit(X_train, y_train)\n",
    "train_time = time.time() - start_time\n",
    "\n",
    "# Make predictions\n",
    "print(\"Making predictions...\")\n",
    "start_time = time.time()\n",
    "y_pred = knn.predict(X_test)\n",
    "predict_time = time.time() - start_time\n",
    "\n",
    "# Calculate accuracy\n",
    "accuracy = accuracy_score(y_test, y_pred)\n",
    "\n",
    "print(f\"Training time: {train_time:.2f} seconds\")\n",
    "print(f\"Prediction time: {predict_time:.2f} seconds\")\n",
    "print(f\"Accuracy: {accuracy:.4f}\")\n",
    "print(\"\\nClassification Report:\")\n",
    "print(classification_report(y_test, y_pred))"
   ]
  }
 ],
 "metadata": {
  "kernelspec": {
   "display_name": "venv",
   "language": "python",
   "name": "venv"
  },
  "language_info": {
   "codemirror_mode": {
    "name": "ipython",
    "version": 3
   },
   "file_extension": ".py",
   "mimetype": "text/x-python",
   "name": "python",
   "nbconvert_exporter": "python",
   "pygments_lexer": "ipython3",
   "version": "3.12.1"
  }
 },
 "nbformat": 4,
 "nbformat_minor": 5
}
