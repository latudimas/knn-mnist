{
 "cells": [
  {
   "cell_type": "code",
   "execution_count": 5,
   "id": "949ee91d-4dc7-45ae-a574-fa2a5aa69ac5",
   "metadata": {},
   "outputs": [],
   "source": [
    "import numpy as np\n",
    "import matplotlib.pyplot as plt\n",
    "from pca import PCA\n",
    "from knn import KNNClassifier"
   ]
  },
  {
   "cell_type": "code",
   "execution_count": 19,
   "id": "2bc74486-7f28-4fb8-8eb7-8084c87e3694",
   "metadata": {},
   "outputs": [],
   "source": [
    "def read_mnist_images(file_path):\n",
    "    with open(file_path, 'rb') as f:\n",
    "        magic_number = int.from_bytes(f.read(4), 'big')\n",
    "        num_images = int.from_bytes(f.read(4), 'big')\n",
    "        num_rows = int.from_bytes(f.read(4), 'big')\n",
    "        num_cols = int.from_bytes(f.read(4), 'big')\n",
    "\n",
    "        image_data = np.frombuffer(f.read(), dtype=np.uint8)\n",
    "\n",
    "    # Reshape to (num_images, num_rows, num_cols)\n",
    "    images = image_data.reshape(num_images, num_rows, num_cols)\n",
    "    \n",
    "    # Normalize\n",
    "    images = images / 255.0\n",
    "    \n",
    "    # Flatten the images (called feature matrix)\n",
    "    flattened_images = images.reshape(num_images, -1)\n",
    "\n",
    "    return flattened_images\n",
    "\n",
    "\n",
    "def read_mnist_labels(file_path):\n",
    "    with open(file_path, 'rb') as f:\n",
    "        magic_number = int.from_bytes(f.read(4), 'big')\n",
    "        num_labels = int.from_bytes(f.read(4), 'big')\n",
    "\n",
    "        label_data = np.frombuffer(f.read(), dtype=np.uint8)\n",
    "\n",
    "    return label_data"
   ]
  },
  {
   "cell_type": "code",
   "execution_count": 20,
   "id": "e3aef08b-a3e6-4b75-9b83-7e9bdb33c414",
   "metadata": {},
   "outputs": [
    {
     "name": "stdout",
     "output_type": "stream",
     "text": [
      "Training images shape: (60000, 784)\n",
      "Training labels shape: (60000,)\n",
      "Test images shape: (10000, 784)\n",
      "Test labels shape: (10000,)\n"
     ]
    }
   ],
   "source": [
    "train_images = read_mnist_images('data/train-images-idx3-ubyte')\n",
    "train_labels = read_mnist_labels('data/train-labels-idx1-ubyte')\n",
    "\n",
    "test_images = read_mnist_images('data/t10k-images-idx3-ubyte')\n",
    "test_labels = read_mnist_labels('data/t10k-labels-idx1-ubyte')\n",
    "\n",
    "print(f\"Training images shape: {train_images.shape}\")\n",
    "print(f\"Training labels shape: {train_labels.shape}\")\n",
    "print(f\"Test images shape: {test_images.shape}\")\n",
    "print(f\"Test labels shape: {test_labels.shape}\")"
   ]
  }
 ],
 "metadata": {
  "kernelspec": {
   "display_name": "venv",
   "language": "python",
   "name": "venv"
  },
  "language_info": {
   "codemirror_mode": {
    "name": "ipython",
    "version": 3
   },
   "file_extension": ".py",
   "mimetype": "text/x-python",
   "name": "python",
   "nbconvert_exporter": "python",
   "pygments_lexer": "ipython3",
   "version": "3.12.1"
  }
 },
 "nbformat": 4,
 "nbformat_minor": 5
}
