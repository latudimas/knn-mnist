{
 "cells": [
  {
   "cell_type": "code",
   "execution_count": 1,
   "id": "949ee91d-4dc7-45ae-a574-fa2a5aa69ac5",
   "metadata": {},
   "outputs": [],
   "source": [
    "from pca import PCA\n",
    "from knn import KNNClassifier"
   ]
  },
  {
   "cell_type": "code",
   "execution_count": null,
   "id": "2bc74486-7f28-4fb8-8eb7-8084c87e3694",
   "metadata": {},
   "outputs": [],
   "source": [
    "def load_mnist():\n",
    "    "
   ]
  }
 ],
 "metadata": {
  "kernelspec": {
   "display_name": "venv",
   "language": "python",
   "name": "venv"
  },
  "language_info": {
   "codemirror_mode": {
    "name": "ipython",
    "version": 3
   },
   "file_extension": ".py",
   "mimetype": "text/x-python",
   "name": "python",
   "nbconvert_exporter": "python",
   "pygments_lexer": "ipython3",
   "version": "3.12.1"
  }
 },
 "nbformat": 4,
 "nbformat_minor": 5
}
